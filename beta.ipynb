{
 "cells": [
  {
   "cell_type": "code",
   "id": "initial_id",
   "metadata": {
    "collapsed": true,
    "ExecuteTime": {
     "end_time": "2025-07-08T17:14:02.072626Z",
     "start_time": "2025-07-08T17:13:54.770555Z"
    }
   },
   "source": [
    "import numpy as np\n",
    "import pandas as pd\n",
    "import yfinance as yf\n",
    "from datetime import datetime, timedelta\n",
    "\n",
    "def calculate_2year_beta():\n",
    "    # Stock tickers for reference\n",
    "    tickers = ['META', 'REGN', 'FI', 'GILD', 'MITK', 'FIS', 'IDCC', 'COUR', 'AMAT', 'KLAC',\n",
    "               'NICE', 'WFC', 'AMD', 'LLY', 'NVO', 'DELL', 'BP', 'NOK', 'RMBS', 'EL',\n",
    "               'UIS', 'ILMN', 'GOOG', 'SNPS', 'GRAL', 'UNH', 'GNRC', 'TXN', 'ROK']\n",
    "\n",
    "    print(\"Fetching 2-year historical data from Yahoo Finance...\")\n",
    "\n",
    "    # Define date ranges for quarters\n",
    "    end_date = datetime(2025, 6, 30)  # End of Q2 2025\n",
    "    start_date = datetime(2023, 1, 1)  # Start of Q1 2023\n",
    "\n",
    "    # Fetch S&P 500 data\n",
    "    sp500 = yf.download('^GSPC', start=start_date, end=end_date, progress=False, auto_adjust=False)\n",
    "\n",
    "    # Check column structure and handle MultiIndex\n",
    "    if len(sp500.columns.levels) > 1:\n",
    "        # MultiIndex columns\n",
    "        sp500_close = sp500[('Adj Close', '^GSPC')]\n",
    "    else:\n",
    "        # Single level columns\n",
    "        sp500_close = sp500['Adj Close']\n",
    "\n",
    "    # Calculate quarterly returns for S&P 500\n",
    "    sp500_quarterly = sp500_close.resample('Q').last()\n",
    "    sp500_returns = sp500_quarterly.pct_change().dropna() * 100\n",
    "\n",
    "    print(f\"S&P 500 quarterly returns: {sp500_returns.values}\")\n",
    "\n",
    "    # Fetch stock data and calculate betas\n",
    "    betas_2y = []\n",
    "    valid_tickers = []\n",
    "\n",
    "    for ticker in tickers:\n",
    "        try:\n",
    "            # Fetch stock data\n",
    "            stock = yf.download(ticker, start=start_date, end=end_date, progress=False, auto_adjust=False)\n",
    "\n",
    "            if not stock.empty:\n",
    "                # Handle column structure\n",
    "                if len(stock.columns.levels) > 1:\n",
    "                    stock_close = stock[('Adj Close', ticker)]\n",
    "                else:\n",
    "                    stock_close = stock['Adj Close']\n",
    "\n",
    "                # Calculate quarterly returns\n",
    "                stock_quarterly = stock_close.resample('Q').last()\n",
    "                stock_returns = stock_quarterly.pct_change().dropna() * 100\n",
    "\n",
    "                # Align dates with S&P 500\n",
    "                aligned_dates = stock_returns.index.intersection(sp500_returns.index)\n",
    "\n",
    "                if len(aligned_dates) >= 4:  # Need at least 4 quarters\n",
    "                    stock_aligned = stock_returns[aligned_dates]\n",
    "                    market_aligned = sp500_returns[aligned_dates]\n",
    "\n",
    "                    # Calculate beta\n",
    "                    covariance = np.cov(stock_aligned, market_aligned)[0, 1]\n",
    "                    market_variance = np.var(market_aligned, ddof=1)\n",
    "\n",
    "                    if market_variance != 0:\n",
    "                        beta = covariance / market_variance\n",
    "                    else:\n",
    "                        beta = 0\n",
    "\n",
    "                    betas_2y.append(beta)\n",
    "                    valid_tickers.append(ticker)\n",
    "                    print(f\"{ticker}: Beta = {beta:.4f}\")\n",
    "                else:\n",
    "                    print(f\"{ticker}: Insufficient data\")\n",
    "            else:\n",
    "                print(f\"{ticker}: No data found\")\n",
    "\n",
    "        except Exception as e:\n",
    "            print(f\"{ticker}: Error fetching data - {str(e)}\")\n",
    "\n",
    "    # Create DataFrame with valid data\n",
    "    df_2y_original = pd.DataFrame({\n",
    "        'Stock': valid_tickers,\n",
    "        'Beta_2Y': betas_2y\n",
    "    })\n",
    "\n",
    "    # Create sorted DataFrame\n",
    "    df_2y_sorted = df_2y_original.sort_values('Beta_2Y', ascending=False)\n",
    "\n",
    "    # Save to CSV files\n",
    "    df_2y_original.to_csv('beta_2year_original_order.csv', index=False)\n",
    "    df_2y_sorted.to_csv('beta_2year_sorted_by_value.csv', index=False)\n",
    "\n",
    "    print(f\"\\nProcessed {len(valid_tickers)} stocks successfully\")\n",
    "\n",
    "    return df_2y_sorted, df_2y_original\n",
    "\n",
    "if __name__ == \"__main__\":\n",
    "    print(\"2-Year Beta Analysis\")\n",
    "    print(\"=\" * 50)\n",
    "\n",
    "    beta_2y_sorted, beta_2y_original = calculate_2year_beta()\n",
    "\n",
    "    print(\"\\n2-Year Beta Analysis (Sorted by Beta):\")\n",
    "    print(beta_2y_sorted.to_string(index=False, float_format='%.4f'))\n",
    "\n",
    "    print(\"\\n2-Year Beta Analysis (Original Order):\")\n",
    "    print(beta_2y_original.to_string(index=False, float_format='%.4f'))\n",
    "\n"
   ],
   "outputs": [
    {
     "name": "stdout",
     "output_type": "stream",
     "text": [
      "2-Year Beta Analysis\n",
      "==================================================\n",
      "Fetching 2-year historical data from Yahoo Finance...\n",
      "S&P 500 quarterly returns: [ 8.29992917 -3.64755554 11.23541692 10.15801426  3.9230329   5.53064934\n",
      "  2.06768445 -4.58682016 10.00061863]\n"
     ]
    },
    {
     "name": "stderr",
     "output_type": "stream",
     "text": [
      "C:\\Users\\Owner\\AppData\\Local\\Temp\\ipykernel_35224\\4091619398.py:30: FutureWarning: 'Q' is deprecated and will be removed in a future version, please use 'QE' instead.\n",
      "  sp500_quarterly = sp500_close.resample('Q').last()\n",
      "C:\\Users\\Owner\\AppData\\Local\\Temp\\ipykernel_35224\\4091619398.py:52: FutureWarning: 'Q' is deprecated and will be removed in a future version, please use 'QE' instead.\n",
      "  stock_quarterly = stock_close.resample('Q').last()\n",
      "C:\\Users\\Owner\\AppData\\Local\\Temp\\ipykernel_35224\\4091619398.py:52: FutureWarning: 'Q' is deprecated and will be removed in a future version, please use 'QE' instead.\n",
      "  stock_quarterly = stock_close.resample('Q').last()\n"
     ]
    },
    {
     "name": "stdout",
     "output_type": "stream",
     "text": [
      "META: Beta = 2.0167\n",
      "REGN: Beta = 0.0605\n"
     ]
    },
    {
     "name": "stderr",
     "output_type": "stream",
     "text": [
      "C:\\Users\\Owner\\AppData\\Local\\Temp\\ipykernel_35224\\4091619398.py:52: FutureWarning: 'Q' is deprecated and will be removed in a future version, please use 'QE' instead.\n",
      "  stock_quarterly = stock_close.resample('Q').last()\n",
      "C:\\Users\\Owner\\AppData\\Local\\Temp\\ipykernel_35224\\4091619398.py:52: FutureWarning: 'Q' is deprecated and will be removed in a future version, please use 'QE' instead.\n",
      "  stock_quarterly = stock_close.resample('Q').last()\n"
     ]
    },
    {
     "name": "stdout",
     "output_type": "stream",
     "text": [
      "FI: Beta = 0.5381\n",
      "GILD: Beta = -0.7663\n"
     ]
    },
    {
     "name": "stderr",
     "output_type": "stream",
     "text": [
      "C:\\Users\\Owner\\AppData\\Local\\Temp\\ipykernel_35224\\4091619398.py:52: FutureWarning: 'Q' is deprecated and will be removed in a future version, please use 'QE' instead.\n",
      "  stock_quarterly = stock_close.resample('Q').last()\n"
     ]
    },
    {
     "name": "stdout",
     "output_type": "stream",
     "text": [
      "MITK: Beta = 1.8234\n"
     ]
    },
    {
     "name": "stderr",
     "output_type": "stream",
     "text": [
      "C:\\Users\\Owner\\AppData\\Local\\Temp\\ipykernel_35224\\4091619398.py:52: FutureWarning: 'Q' is deprecated and will be removed in a future version, please use 'QE' instead.\n",
      "  stock_quarterly = stock_close.resample('Q').last()\n",
      "C:\\Users\\Owner\\AppData\\Local\\Temp\\ipykernel_35224\\4091619398.py:52: FutureWarning: 'Q' is deprecated and will be removed in a future version, please use 'QE' instead.\n",
      "  stock_quarterly = stock_close.resample('Q').last()\n"
     ]
    },
    {
     "name": "stdout",
     "output_type": "stream",
     "text": [
      "FIS: Beta = 1.1093\n",
      "IDCC: Beta = 1.3868\n"
     ]
    },
    {
     "name": "stderr",
     "output_type": "stream",
     "text": [
      "C:\\Users\\Owner\\AppData\\Local\\Temp\\ipykernel_35224\\4091619398.py:52: FutureWarning: 'Q' is deprecated and will be removed in a future version, please use 'QE' instead.\n",
      "  stock_quarterly = stock_close.resample('Q').last()\n"
     ]
    },
    {
     "name": "stdout",
     "output_type": "stream",
     "text": [
      "COUR: Beta = -0.1751\n"
     ]
    },
    {
     "name": "stderr",
     "output_type": "stream",
     "text": [
      "C:\\Users\\Owner\\AppData\\Local\\Temp\\ipykernel_35224\\4091619398.py:52: FutureWarning: 'Q' is deprecated and will be removed in a future version, please use 'QE' instead.\n",
      "  stock_quarterly = stock_close.resample('Q').last()\n",
      "C:\\Users\\Owner\\AppData\\Local\\Temp\\ipykernel_35224\\4091619398.py:52: FutureWarning: 'Q' is deprecated and will be removed in a future version, please use 'QE' instead.\n",
      "  stock_quarterly = stock_close.resample('Q').last()\n"
     ]
    },
    {
     "name": "stdout",
     "output_type": "stream",
     "text": [
      "AMAT: Beta = 2.2465\n",
      "KLAC: Beta = 1.8824\n"
     ]
    },
    {
     "name": "stderr",
     "output_type": "stream",
     "text": [
      "C:\\Users\\Owner\\AppData\\Local\\Temp\\ipykernel_35224\\4091619398.py:52: FutureWarning: 'Q' is deprecated and will be removed in a future version, please use 'QE' instead.\n",
      "  stock_quarterly = stock_close.resample('Q').last()\n"
     ]
    },
    {
     "name": "stdout",
     "output_type": "stream",
     "text": [
      "NICE: Beta = 1.9827\n"
     ]
    },
    {
     "name": "stderr",
     "output_type": "stream",
     "text": [
      "C:\\Users\\Owner\\AppData\\Local\\Temp\\ipykernel_35224\\4091619398.py:52: FutureWarning: 'Q' is deprecated and will be removed in a future version, please use 'QE' instead.\n",
      "  stock_quarterly = stock_close.resample('Q').last()\n",
      "C:\\Users\\Owner\\AppData\\Local\\Temp\\ipykernel_35224\\4091619398.py:52: FutureWarning: 'Q' is deprecated and will be removed in a future version, please use 'QE' instead.\n",
      "  stock_quarterly = stock_close.resample('Q').last()\n"
     ]
    },
    {
     "name": "stdout",
     "output_type": "stream",
     "text": [
      "WFC: Beta = 1.0162\n",
      "AMD: Beta = 3.4929\n"
     ]
    },
    {
     "name": "stderr",
     "output_type": "stream",
     "text": [
      "C:\\Users\\Owner\\AppData\\Local\\Temp\\ipykernel_35224\\4091619398.py:52: FutureWarning: 'Q' is deprecated and will be removed in a future version, please use 'QE' instead.\n",
      "  stock_quarterly = stock_close.resample('Q').last()\n"
     ]
    },
    {
     "name": "stdout",
     "output_type": "stream",
     "text": [
      "LLY: Beta = 0.5910\n"
     ]
    },
    {
     "name": "stderr",
     "output_type": "stream",
     "text": [
      "C:\\Users\\Owner\\AppData\\Local\\Temp\\ipykernel_35224\\4091619398.py:52: FutureWarning: 'Q' is deprecated and will be removed in a future version, please use 'QE' instead.\n",
      "  stock_quarterly = stock_close.resample('Q').last()\n",
      "C:\\Users\\Owner\\AppData\\Local\\Temp\\ipykernel_35224\\4091619398.py:52: FutureWarning: 'Q' is deprecated and will be removed in a future version, please use 'QE' instead.\n",
      "  stock_quarterly = stock_close.resample('Q').last()\n"
     ]
    },
    {
     "name": "stdout",
     "output_type": "stream",
     "text": [
      "NVO: Beta = 1.2072\n",
      "DELL: Beta = 2.1442\n"
     ]
    },
    {
     "name": "stderr",
     "output_type": "stream",
     "text": [
      "C:\\Users\\Owner\\AppData\\Local\\Temp\\ipykernel_35224\\4091619398.py:52: FutureWarning: 'Q' is deprecated and will be removed in a future version, please use 'QE' instead.\n",
      "  stock_quarterly = stock_close.resample('Q').last()\n"
     ]
    },
    {
     "name": "stdout",
     "output_type": "stream",
     "text": [
      "BP: Beta = -1.1141\n"
     ]
    },
    {
     "name": "stderr",
     "output_type": "stream",
     "text": [
      "C:\\Users\\Owner\\AppData\\Local\\Temp\\ipykernel_35224\\4091619398.py:52: FutureWarning: 'Q' is deprecated and will be removed in a future version, please use 'QE' instead.\n",
      "  stock_quarterly = stock_close.resample('Q').last()\n"
     ]
    },
    {
     "name": "stdout",
     "output_type": "stream",
     "text": [
      "NOK: Beta = -0.6624\n"
     ]
    },
    {
     "name": "stderr",
     "output_type": "stream",
     "text": [
      "C:\\Users\\Owner\\AppData\\Local\\Temp\\ipykernel_35224\\4091619398.py:52: FutureWarning: 'Q' is deprecated and will be removed in a future version, please use 'QE' instead.\n",
      "  stock_quarterly = stock_close.resample('Q').last()\n"
     ]
    },
    {
     "name": "stdout",
     "output_type": "stream",
     "text": [
      "RMBS: Beta = 1.2584\n"
     ]
    },
    {
     "name": "stderr",
     "output_type": "stream",
     "text": [
      "C:\\Users\\Owner\\AppData\\Local\\Temp\\ipykernel_35224\\4091619398.py:52: FutureWarning: 'Q' is deprecated and will be removed in a future version, please use 'QE' instead.\n",
      "  stock_quarterly = stock_close.resample('Q').last()\n"
     ]
    },
    {
     "name": "stdout",
     "output_type": "stream",
     "text": [
      "EL: Beta = 1.8104\n"
     ]
    },
    {
     "name": "stderr",
     "output_type": "stream",
     "text": [
      "C:\\Users\\Owner\\AppData\\Local\\Temp\\ipykernel_35224\\4091619398.py:52: FutureWarning: 'Q' is deprecated and will be removed in a future version, please use 'QE' instead.\n",
      "  stock_quarterly = stock_close.resample('Q').last()\n",
      "C:\\Users\\Owner\\AppData\\Local\\Temp\\ipykernel_35224\\4091619398.py:52: FutureWarning: 'Q' is deprecated and will be removed in a future version, please use 'QE' instead.\n",
      "  stock_quarterly = stock_close.resample('Q').last()\n"
     ]
    },
    {
     "name": "stdout",
     "output_type": "stream",
     "text": [
      "UIS: Beta = 2.5803\n",
      "ILMN: Beta = 2.4202\n"
     ]
    },
    {
     "name": "stderr",
     "output_type": "stream",
     "text": [
      "C:\\Users\\Owner\\AppData\\Local\\Temp\\ipykernel_35224\\4091619398.py:52: FutureWarning: 'Q' is deprecated and will be removed in a future version, please use 'QE' instead.\n",
      "  stock_quarterly = stock_close.resample('Q').last()\n",
      "C:\\Users\\Owner\\AppData\\Local\\Temp\\ipykernel_35224\\4091619398.py:52: FutureWarning: 'Q' is deprecated and will be removed in a future version, please use 'QE' instead.\n",
      "  stock_quarterly = stock_close.resample('Q').last()\n"
     ]
    },
    {
     "name": "stdout",
     "output_type": "stream",
     "text": [
      "GOOG: Beta = 0.8971\n",
      "SNPS: Beta = 1.1977\n"
     ]
    },
    {
     "name": "stderr",
     "output_type": "stream",
     "text": [
      "C:\\Users\\Owner\\AppData\\Local\\Temp\\ipykernel_35224\\4091619398.py:52: FutureWarning: 'Q' is deprecated and will be removed in a future version, please use 'QE' instead.\n",
      "  stock_quarterly = stock_close.resample('Q').last()\n"
     ]
    },
    {
     "name": "stdout",
     "output_type": "stream",
     "text": [
      "GRAL: Beta = 1.8211\n"
     ]
    },
    {
     "name": "stderr",
     "output_type": "stream",
     "text": [
      "C:\\Users\\Owner\\AppData\\Local\\Temp\\ipykernel_35224\\4091619398.py:52: FutureWarning: 'Q' is deprecated and will be removed in a future version, please use 'QE' instead.\n",
      "  stock_quarterly = stock_close.resample('Q').last()\n"
     ]
    },
    {
     "name": "stdout",
     "output_type": "stream",
     "text": [
      "UNH: Beta = -0.8711\n"
     ]
    },
    {
     "name": "stderr",
     "output_type": "stream",
     "text": [
      "C:\\Users\\Owner\\AppData\\Local\\Temp\\ipykernel_35224\\4091619398.py:52: FutureWarning: 'Q' is deprecated and will be removed in a future version, please use 'QE' instead.\n",
      "  stock_quarterly = stock_close.resample('Q').last()\n"
     ]
    },
    {
     "name": "stdout",
     "output_type": "stream",
     "text": [
      "GNRC: Beta = 2.6023\n"
     ]
    },
    {
     "name": "stderr",
     "output_type": "stream",
     "text": [
      "C:\\Users\\Owner\\AppData\\Local\\Temp\\ipykernel_35224\\4091619398.py:52: FutureWarning: 'Q' is deprecated and will be removed in a future version, please use 'QE' instead.\n",
      "  stock_quarterly = stock_close.resample('Q').last()\n"
     ]
    },
    {
     "name": "stdout",
     "output_type": "stream",
     "text": [
      "TXN: Beta = 1.0388\n",
      "ROK: Beta = 1.4377\n",
      "\n",
      "Processed 29 stocks successfully\n",
      "\n",
      "2-Year Beta Analysis (Sorted by Beta):\n",
      "Stock  Beta_2Y\n",
      "  AMD   3.4929\n",
      " GNRC   2.6023\n",
      "  UIS   2.5803\n",
      " ILMN   2.4202\n",
      " AMAT   2.2465\n",
      " DELL   2.1442\n",
      " META   2.0167\n",
      " NICE   1.9827\n",
      " KLAC   1.8824\n",
      " MITK   1.8234\n",
      " GRAL   1.8211\n",
      "   EL   1.8104\n",
      "  ROK   1.4377\n",
      " IDCC   1.3868\n",
      " RMBS   1.2584\n",
      "  NVO   1.2072\n",
      " SNPS   1.1977\n",
      "  FIS   1.1093\n",
      "  TXN   1.0388\n",
      "  WFC   1.0162\n",
      " GOOG   0.8971\n",
      "  LLY   0.5910\n",
      "   FI   0.5381\n",
      " REGN   0.0605\n",
      " COUR  -0.1751\n",
      "  NOK  -0.6624\n",
      " GILD  -0.7663\n",
      "  UNH  -0.8711\n",
      "   BP  -1.1141\n",
      "\n",
      "2-Year Beta Analysis (Original Order):\n",
      "Stock  Beta_2Y\n",
      " META   2.0167\n",
      " REGN   0.0605\n",
      "   FI   0.5381\n",
      " GILD  -0.7663\n",
      " MITK   1.8234\n",
      "  FIS   1.1093\n",
      " IDCC   1.3868\n",
      " COUR  -0.1751\n",
      " AMAT   2.2465\n",
      " KLAC   1.8824\n",
      " NICE   1.9827\n",
      "  WFC   1.0162\n",
      "  AMD   3.4929\n",
      "  LLY   0.5910\n",
      "  NVO   1.2072\n",
      " DELL   2.1442\n",
      "   BP  -1.1141\n",
      "  NOK  -0.6624\n",
      " RMBS   1.2584\n",
      "   EL   1.8104\n",
      "  UIS   2.5803\n",
      " ILMN   2.4202\n",
      " GOOG   0.8971\n",
      " SNPS   1.1977\n",
      " GRAL   1.8211\n",
      "  UNH  -0.8711\n",
      " GNRC   2.6023\n",
      "  TXN   1.0388\n",
      "  ROK   1.4377\n",
      "\n",
      "CSV files saved:\n",
      "- beta_2year_sorted_by_value.csv\n",
      "- beta_2year_original_order.csv\n"
     ]
    },
    {
     "name": "stderr",
     "output_type": "stream",
     "text": [
      "C:\\Users\\Owner\\AppData\\Local\\Temp\\ipykernel_35224\\4091619398.py:52: FutureWarning: 'Q' is deprecated and will be removed in a future version, please use 'QE' instead.\n",
      "  stock_quarterly = stock_close.resample('Q').last()\n"
     ]
    }
   ],
   "execution_count": 2
  },
  {
   "metadata": {},
   "cell_type": "code",
   "outputs": [],
   "execution_count": null,
   "source": "",
   "id": "d6944aa51919e6dd"
  }
 ],
 "metadata": {
  "kernelspec": {
   "display_name": "Python 3",
   "language": "python",
   "name": "python3"
  },
  "language_info": {
   "codemirror_mode": {
    "name": "ipython",
    "version": 2
   },
   "file_extension": ".py",
   "mimetype": "text/x-python",
   "name": "python",
   "nbconvert_exporter": "python",
   "pygments_lexer": "ipython2",
   "version": "2.7.6"
  }
 },
 "nbformat": 4,
 "nbformat_minor": 5
}
